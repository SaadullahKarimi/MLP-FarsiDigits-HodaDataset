{
  "nbformat": 4,
  "nbformat_minor": 0,
  "metadata": {
    "colab": {
      "name": "MLP-FarsiDigits.ipynb",
      "provenance": []
    },
    "kernelspec": {
      "name": "python3",
      "display_name": "Python 3"
    }
  },
  "cells": [
    {
      "cell_type": "code",
      "metadata": {
        "id": "wKmd8ZLJl_Gu",
        "colab": {
          "base_uri": "https://localhost:8080/"
        },
        "outputId": "21dd1379-6fbd-421a-ba82-711097c57ab4"
      },
      "source": [
        "from google.colab import drive\n",
        "drive.mount('/content/drive')"
      ],
      "execution_count": 1,
      "outputs": [
        {
          "output_type": "stream",
          "text": [
            "Mounted at /content/drive\n"
          ],
          "name": "stdout"
        }
      ]
    },
    {
      "cell_type": "code",
      "metadata": {
        "colab": {
          "base_uri": "https://localhost:8080/"
        },
        "id": "ypCb1ju9mOdS",
        "outputId": "e238f289-1142-4ba2-ae67-c31373c9129e"
      },
      "source": [
        "!unzip /content/drive/MyDrive/HodaDatasetReader-master.zip "
      ],
      "execution_count": 9,
      "outputs": [
        {
          "output_type": "stream",
          "text": [
            "Archive:  /content/drive/MyDrive/HodaDatasetReader-master.zip\n",
            "728dd5465fcf38c3c82a1d3fda721da30b2e70ed\n",
            "   creating: HodaDatasetReader-master/\n",
            " extracting: HodaDatasetReader-master/.gitignore  \n",
            "   creating: HodaDatasetReader-master/DigitDB/\n",
            "  inflating: HodaDatasetReader-master/DigitDB/RemainingSamples.cdb  \n",
            "  inflating: HodaDatasetReader-master/DigitDB/Test 20000.cdb  \n",
            "  inflating: HodaDatasetReader-master/DigitDB/Train 60000.cdb  \n",
            "  inflating: HodaDatasetReader-master/Farsi_Digits_Sample_1.gif  \n",
            "  inflating: HodaDatasetReader-master/Farsi_Digits_Sample_2.gif  \n",
            "  inflating: HodaDatasetReader-master/Figure_1.png  \n",
            "  inflating: HodaDatasetReader-master/Figure_2.png  \n",
            "  inflating: HodaDatasetReader-master/HodaDatasetReader.py  \n",
            "  inflating: HodaDatasetReader-master/LICENSE  \n",
            "  inflating: HodaDatasetReader-master/README.md  \n",
            "  inflating: HodaDatasetReader-master/dataset_PRL.pdf  \n",
            "  inflating: HodaDatasetReader-master/main.py  \n"
          ],
          "name": "stdout"
        }
      ]
    },
    {
      "cell_type": "code",
      "metadata": {
        "id": "WRukxH9hwklc"
      },
      "source": [
        "from keras.datasets import mnist\n",
        "from keras.models import Sequential\n",
        "from keras.layers import Dense\n",
        "from keras.layers import Dropout\n",
        "from keras.utils import np_utils\n",
        "from sklearn.metrics import classification_report\n",
        "from HodaDatasetReader.HodaDatasetReader import *\n",
        "import matplotlib.pyplot as plt\n",
        "import tensorflow as tf\n",
        "import random\n",
        "import numpy"
      ],
      "execution_count": 9,
      "outputs": []
    },
    {
      "cell_type": "code",
      "metadata": {
        "id": "46Gcw2gKwkil"
      },
      "source": [
        "# Get the Train and Test data\n",
        "DATA_PATH = '/content/HodaDatasetReader/DigitDB/'\n",
        "\n",
        "TRAIN_PATH = DATA_PATH + 'Train 60000.cdb'\n",
        "\n",
        "TEST_PATH = DATA_PATH + 'Test 20000.cdb'"
      ],
      "execution_count": 2,
      "outputs": []
    },
    {
      "cell_type": "code",
      "metadata": {
        "colab": {
          "base_uri": "https://localhost:8080/"
        },
        "id": "W-YFRcUBwkcy",
        "outputId": "e7d57479-0452-459c-936d-7a5877999b72"
      },
      "source": [
        "X_train, Y_train = read_hoda_dataset(dataset_path=TRAIN_PATH,\n",
        "                                    images_height=32,\n",
        "                                    images_width=32,\n",
        "                                    one_hot=False,\n",
        "                                    reshape=True)\n",
        "\n",
        "X_test, Y_test = read_hoda_dataset(dataset_path=TEST_PATH,\n",
        "                                  images_height=32,\n",
        "                                  images_width=32,\n",
        "                                  one_hot=False,\n",
        "                                  reshape=True)\n",
        "\n",
        "print(X_train.shape, Y_train.shape)\n",
        "print(X_test.shape, Y_test.shape)"
      ],
      "execution_count": 3,
      "outputs": [
        {
          "output_type": "stream",
          "text": [
            "(60000, 1024) (60000,)\n",
            "(20000, 1024) (20000,)\n"
          ],
          "name": "stdout"
        }
      ]
    },
    {
      "cell_type": "code",
      "metadata": {
        "colab": {
          "base_uri": "https://localhost:8080/",
          "height": 163
        },
        "id": "8zY4U57IwkZR",
        "outputId": "57fe6629-dfbb-4a9a-f061-cd43255144f9"
      },
      "source": [
        "# Plot the Train and Test data\n",
        "img1 = plt.subplot(221)\n",
        "train_index = random.randint(0, len(X_train))\n",
        "test_index = random.randint(0, len(X_test))\n",
        "img1.set_title('Train')\n",
        "plt.imshow(X_train[train_index].reshape(32,32))\n",
        "img2 = plt.subplot(222)\n",
        "plt.imshow(X_train[test_index].reshape(32,32))\n",
        "img2.set_title('Test')\n",
        "\n",
        "plt.show()"
      ],
      "execution_count": 4,
      "outputs": [
        {
          "output_type": "display_data",
          "data": {
            "image/png": "[encoded data removed]",
            "text/plain": [
              "<Figure size 432x288 with 2 Axes>"
            ]
          },
          "metadata": {
            "tags": [],
            "needs_background": "light"
          }
        }
      ]
    },
    {
      "cell_type": "code",
      "metadata": {
        "colab": {
          "base_uri": "https://localhost:8080/"
        },
        "id": "y6FekDqkwu2i",
        "outputId": "7d599bd0-d6b4-4e8e-faa3-9c34db6b90f2"
      },
      "source": [
        "# X_train = np.expand_dims(X_train, axis=2)\n",
        "# X_test = np.expand_dims(X_test, axis=2)\n",
        "\n",
        "# Normalize the Train and Test data\n",
        "X_train = X_train.astype('float32') / 255\n",
        "X_test = X_test.astype('float32') / 255\n",
        "\n",
        "# one hot encode outputs\n",
        "Y_train = np_utils.to_categorical(Y_train)\n",
        "Y_test = np_utils.to_categorical(Y_test)\n",
        "num_classes = Y_test.shape[1]\n",
        "print(X_train.shape, X_test.shape, Y_train.shape, Y_test.shape)"
      ],
      "execution_count": 5,
      "outputs": [
        {
          "output_type": "stream",
          "text": [
            "(60000, 1024) (20000, 1024) (60000, 10) (20000, 10)\n"
          ],
          "name": "stdout"
        }
      ]
    },
    {
      "cell_type": "code",
      "metadata": {
        "id": "WrSJexeswkJS"
      },
      "source": [
        "def recall_m(y_true, y_pred):\n",
        "    K = tf.keras.backend\n",
        "    true_positives = K.sum(K.round(K.clip(y_true * y_pred, 0, 1)))\n",
        "    possible_positives = K.sum(K.round(K.clip(y_true, 0, 1)))\n",
        "    recall = true_positives / (possible_positives + K.epsilon())\n",
        "    return recall\n",
        "\n",
        "def precision_m(y_true, y_pred):\n",
        "    K = tf.keras.backend\n",
        "    true_positives = K.sum(K.round(K.clip(y_true * y_pred, 0, 1)))\n",
        "    predicted_positives = K.sum(K.round(K.clip(y_pred, 0, 1)))\n",
        "    precision = true_positives / (predicted_positives + K.epsilon())\n",
        "    return precision\n",
        "\n",
        "def f1_m(y_true, y_pred):\n",
        "    K = tf.keras.backend\n",
        "    precision = precision_m(y_true, y_pred)\n",
        "    recall = recall_m(y_true, y_pred)\n",
        "    return 2*((precision*recall)/(precision+recall+K.epsilon()))"
      ],
      "execution_count": 6,
      "outputs": []
    },
    {
      "cell_type": "code",
      "metadata": {
        "id": "4BCII-W0wuzn"
      },
      "source": [
        "# Build model\n",
        "def build_model():\n",
        "  model = Sequential()\n",
        "  model.add(Dense(100, input_shape=(32 * 32,), activation='relu'))\n",
        "  model.add(Dropout(0.02))\n",
        "  model.add(Dense(400, activation='relu'))\n",
        "  model.add(Dense(num_classes, activation='sigmoid'))\n",
        "  return model"
      ],
      "execution_count": 7,
      "outputs": []
    },
    {
      "cell_type": "code",
      "metadata": {
        "colab": {
          "base_uri": "https://localhost:8080/"
        },
        "id": "PzudS-f_wuqZ",
        "outputId": "dab387f9-6e11-4333-d05d-95774f5d4e23"
      },
      "source": [
        "model = build_model()\n",
        "# Compile\n",
        "model.compile(loss='categorical_crossentropy', optimizer='adam', metrics=['accuracy', f1_m, precision_m, recall_m])\n",
        "\n",
        "# Fit the model\n",
        "history = model.fit(X_train, Y_train, validation_data=(X_test, Y_test), epochs=10, batch_size=200)"
      ],
      "execution_count": 10,
      "outputs": [
        {
          "output_type": "stream",
          "text": [
            "Epoch 1/10\n",
            "300/300 [==============================] - 4s 10ms/step - loss: 1.5234 - accuracy: 0.5657 - f1_m: 0.3588 - precision_m: 0.2282 - recall_m: 0.8429 - val_loss: 0.4887 - val_accuracy: 0.8363 - val_f1_m: 0.4723 - val_precision_m: 0.3149 - val_recall_m: 0.9756\n",
            "Epoch 2/10\n",
            "300/300 [==============================] - 3s 9ms/step - loss: 0.2605 - accuracy: 0.9243 - f1_m: 0.4631 - precision_m: 0.3024 - recall_m: 0.9895 - val_loss: 0.3674 - val_accuracy: 0.8850 - val_f1_m: 0.4880 - val_precision_m: 0.3295 - val_recall_m: 0.9828\n",
            "Epoch 3/10\n",
            "300/300 [==============================] - 3s 8ms/step - loss: 0.1927 - accuracy: 0.9446 - f1_m: 0.4728 - precision_m: 0.3103 - recall_m: 0.9930 - val_loss: 0.3209 - val_accuracy: 0.9018 - val_f1_m: 0.4963 - val_precision_m: 0.3377 - val_recall_m: 0.9859\n",
            "Epoch 4/10\n",
            "300/300 [==============================] - 3s 9ms/step - loss: 0.1633 - accuracy: 0.9532 - f1_m: 0.4815 - precision_m: 0.3178 - recall_m: 0.9938 - val_loss: 0.2831 - val_accuracy: 0.9146 - val_f1_m: 0.5020 - val_precision_m: 0.3420 - val_recall_m: 0.9876\n",
            "Epoch 5/10\n",
            "300/300 [==============================] - 3s 9ms/step - loss: 0.1417 - accuracy: 0.9600 - f1_m: 0.4889 - precision_m: 0.3241 - recall_m: 0.9948 - val_loss: 0.2569 - val_accuracy: 0.9254 - val_f1_m: 0.5108 - val_precision_m: 0.3501 - val_recall_m: 0.9887\n",
            "Epoch 6/10\n",
            "300/300 [==============================] - 3s 9ms/step - loss: 0.1269 - accuracy: 0.9645 - f1_m: 0.4979 - precision_m: 0.3320 - recall_m: 0.9956 - val_loss: 0.2344 - val_accuracy: 0.9312 - val_f1_m: 0.5218 - val_precision_m: 0.3603 - val_recall_m: 0.9900\n",
            "Epoch 7/10\n",
            "300/300 [==============================] - 3s 9ms/step - loss: 0.1147 - accuracy: 0.9672 - f1_m: 0.5077 - precision_m: 0.3407 - recall_m: 0.9962 - val_loss: 0.2176 - val_accuracy: 0.9373 - val_f1_m: 0.5285 - val_precision_m: 0.3670 - val_recall_m: 0.9914\n",
            "Epoch 8/10\n",
            "300/300 [==============================] - 3s 9ms/step - loss: 0.1044 - accuracy: 0.9707 - f1_m: 0.5164 - precision_m: 0.3485 - recall_m: 0.9972 - val_loss: 0.1998 - val_accuracy: 0.9427 - val_f1_m: 0.5413 - val_precision_m: 0.3797 - val_recall_m: 0.9918\n",
            "Epoch 9/10\n",
            "300/300 [==============================] - 3s 9ms/step - loss: 0.0909 - accuracy: 0.9753 - f1_m: 0.5281 - precision_m: 0.3592 - recall_m: 0.9973 - val_loss: 0.1848 - val_accuracy: 0.9470 - val_f1_m: 0.5456 - val_precision_m: 0.3838 - val_recall_m: 0.9926\n",
            "Epoch 10/10\n",
            "300/300 [==============================] - 3s 9ms/step - loss: 0.0819 - accuracy: 0.9764 - f1_m: 0.5383 - precision_m: 0.3687 - recall_m: 0.9973 - val_loss: 0.1716 - val_accuracy: 0.9498 - val_f1_m: 0.5484 - val_precision_m: 0.3864 - val_recall_m: 0.9931\n"
          ],
          "name": "stdout"
        }
      ]
    },
    {
      "cell_type": "code",
      "metadata": {
        "colab": {
          "base_uri": "https://localhost:8080/"
        },
        "id": "SkiZsKATcdzV",
        "outputId": "6616bcde-46fc-4931-afe8-fddec3d3fae3"
      },
      "source": [
        "# Final evaluation of the model\n",
        "train_eval = model.evaluate(X_train, Y_train, batch_size=200)\n",
        "test_eval = model.evaluate(X_test, Y_test, batch_size=200)\n",
        "print(\"Train eval : \", train_eval)\n",
        "print(\"Test eval : \", test_eval)"
      ],
      "execution_count": 15,
      "outputs": [
        {
          "output_type": "stream",
          "text": [
            "300/300 [==============================] - 1s 3ms/step - loss: 0.0734 - accuracy: 0.9796 - f1_m: 0.5369 - precision_m: 0.3673 - recall_m: 0.9979\n",
            "100/100 [==============================] - 0s 3ms/step - loss: 0.1716 - accuracy: 0.9498 - f1_m: 0.5484 - precision_m: 0.3864 - recall_m: 0.9931\n",
            "Train eval :  [0.07335953414440155, 0.9796333312988281, 0.5368852019309998, 0.36729517579078674, 0.9978994727134705]\n",
            "Test eval :  [0.17162111401557922, 0.9498000144958496, 0.5484216213226318, 0.3863980174064636, 0.993100106716156]\n"
          ],
          "name": "stdout"
        }
      ]
    },
    {
      "cell_type": "code",
      "metadata": {
        "id": "A7Lx92zxks53",
        "colab": {
          "base_uri": "https://localhost:8080/",
          "height": 281
        },
        "outputId": "5d7da565-24c0-4b89-8a0c-63c9e4e71f4a"
      },
      "source": [
        "# Plot loss during training\n",
        "plt.subplot(211)\n",
        "plt.title('Loss')\n",
        "plt.plot(history.history['loss'], label='train')\n",
        "plt.legend()\n",
        "\n",
        "# Plot accuracy during training\n",
        "plt.subplot(212)\n",
        "plt.title('Accuracy')\n",
        "plt.plot(history.history['accuracy'], label='train')\n",
        "plt.legend()\n",
        "\n",
        "plt.show()\n"
      ],
      "execution_count": 16,
      "outputs": [
        {
          "output_type": "display_data",
          "data": {
            "image/png": "[encoded data removed]",
            "text/plain": [
              "<Figure size 432x288 with 2 Axes>"
            ]
          },
          "metadata": {
            "tags": [],
            "needs_background": "light"
          }
        }
      ]
    },
    {
      "cell_type": "code",
      "metadata": {
        "colab": {
          "base_uri": "https://localhost:8080/"
        },
        "id": "y3tvPPlzxSVD",
        "outputId": "d459bd78-dbe8-4802-b8d8-f63b1f60908e"
      },
      "source": [
        "Y_pred = model.predict(X_test, batch_size=200, verbose=1)\n",
        "print(Y_pred)\n",
        "print(Y_test)\n",
        "Y_pred_bool = np.argmax(Y_pred, axis=1)"
      ],
      "execution_count": 17,
      "outputs": [
        {
          "output_type": "stream",
          "text": [
            "100/100 [==============================] - 0s 3ms/step\n",
            "[[9.9962062e-01 5.4249465e-03 7.3274970e-04 ... 3.7899762e-01\n",
            "  4.6551609e-01 2.1617115e-03]\n",
            " [9.9962151e-01 1.1842400e-02 3.5682321e-04 ... 5.2675587e-01\n",
            "  8.0568212e-01 2.5007129e-04]\n",
            " [9.3925786e-01 6.4306855e-01 1.5020370e-04 ... 4.4699740e-01\n",
            "  2.8238881e-01 3.2887757e-03]\n",
            " ...\n",
            " [2.4017751e-02 9.6386975e-01 9.3751937e-02 ... 5.2279234e-04\n",
            "  6.6311359e-03 5.9519613e-01]\n",
            " [1.9000769e-03 1.2021959e-03 1.5613943e-02 ... 5.6133706e-07\n",
            "  7.3301136e-01 9.9985135e-01]\n",
            " [2.3862720e-04 5.9611357e-06 1.7382997e-01 ... 9.5077288e-09\n",
            "  3.8661614e-01 9.9999583e-01]]\n",
            "[[1. 0. 0. ... 0. 0. 0.]\n",
            " [1. 0. 0. ... 0. 0. 0.]\n",
            " [1. 0. 0. ... 0. 0. 0.]\n",
            " ...\n",
            " [0. 0. 0. ... 0. 0. 1.]\n",
            " [0. 0. 0. ... 0. 0. 1.]\n",
            " [0. 0. 0. ... 0. 0. 1.]]\n"
          ],
          "name": "stdout"
        }
      ]
    },
    {
      "cell_type": "code",
      "metadata": {
        "colab": {
          "base_uri": "https://localhost:8080/"
        },
        "id": "f5Ch-xrcskOz",
        "outputId": "c1d1fd52-b1b5-47d1-df73-1b8b66913aa3"
      },
      "source": [
        "from sklearn.metrics import classification_report, confusion_matrix\n",
        "\n",
        "y_pred = np.argmax(Y_pred, axis=1)\n",
        "y_true = np.argmax(Y_test, axis=1)\n",
        "\n",
        "print('Confusion Matrix')\n",
        "print(confusion_matrix(y_true, y_pred))\n",
        "print('Classification Report')\n",
        "target_names = ['0', '1', '2', '3', '4', '5', '6', '7', '8', '9']\n",
        "print(classification_report(y_true, y_pred, target_names=target_names))"
      ],
      "execution_count": 21,
      "outputs": [
        {
          "output_type": "stream",
          "text": [
            "Confusion Matrix\n",
            "[[1973    0    0    0    5   17    2    2    1    0]\n",
            " [   8 1961   10    0    2    0   11    4    1    3]\n",
            " [   3   29 1826   69   30    0   27    1    1   14]\n",
            " [   5    1   76 1833   72    1    8    2    0    2]\n",
            " [   7    5   15   83 1841   12   13    2    4   18]\n",
            " [   4    7    0    1   15 1944    5    6   17    1]\n",
            " [   3   14   13    6   17    3 1899    4    5   36]\n",
            " [  15    7   21    5    7   14   17 1910    4    0]\n",
            " [   5    3    2    3   14    7   13    0 1930   23]\n",
            " [   2   32    5    3   12    2   41    0   24 1879]]\n",
            "Classification Report\n",
            "              precision    recall  f1-score   support\n",
            "\n",
            "           0       0.97      0.99      0.98      2000\n",
            "           1       0.95      0.98      0.97      2000\n",
            "           2       0.93      0.91      0.92      2000\n",
            "           3       0.92      0.92      0.92      2000\n",
            "           4       0.91      0.92      0.92      2000\n",
            "           5       0.97      0.97      0.97      2000\n",
            "           6       0.93      0.95      0.94      2000\n",
            "           7       0.99      0.95      0.97      2000\n",
            "           8       0.97      0.96      0.97      2000\n",
            "           9       0.95      0.94      0.95      2000\n",
            "\n",
            "    accuracy                           0.95     20000\n",
            "   macro avg       0.95      0.95      0.95     20000\n",
            "weighted avg       0.95      0.95      0.95     20000\n",
            "\n"
          ],
          "name": "stdout"
        }
      ]
    }
  ]
}